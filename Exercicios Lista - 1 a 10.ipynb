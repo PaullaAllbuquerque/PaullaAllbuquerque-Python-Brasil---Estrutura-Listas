{
 "cells": [
  {
   "cell_type": "code",
   "execution_count": 4,
   "id": "3c55e5dc",
   "metadata": {},
   "outputs": [
    {
     "name": "stdout",
     "output_type": "stream",
     "text": [
      "[1, 2, 3, 4]\n"
     ]
    }
   ],
   "source": [
    "'''Exercício 1 - Faça um Programa que leia um vetor de 5 números inteiros e mostre-os.\n",
    "'''\n",
    "vetor=list(range(1,5))\n",
    "print(vetor)\n"
   ]
  },
  {
   "cell_type": "code",
   "execution_count": 11,
   "id": "8a3a43c5",
   "metadata": {},
   "outputs": [
    {
     "name": "stdout",
     "output_type": "stream",
     "text": [
      "[10, 9, 8, 7, 6, 5, 4, 3, 2, 1]\n"
     ]
    }
   ],
   "source": [
    "'''Exercício 2 - Faça um Programa que leia um vetor de 10 números reais e mostre-os na ordem inversa.\n",
    "'''\n",
    "vetor = list(range(1,11))\n",
    "rev = list(reversed(vetor))\n",
    "print(rev)\n",
    "             "
   ]
  },
  {
   "cell_type": "code",
   "execution_count": 16,
   "id": "bde06d4d",
   "metadata": {},
   "outputs": [
    {
     "name": "stdout",
     "output_type": "stream",
     "text": [
      "Notas: [1, 2, 3, 4], Media: 0.4\n"
     ]
    }
   ],
   "source": [
    "'''Exercício 3 - Faça um Programa que leia 4 notas, mostre as notas e a média na tela.\n",
    "'''\n",
    "\n",
    "notas = list(range(1,5))\n",
    "media = len(notas)/sum(notas)\n",
    "print('Notas: {0}, Media: {1}'.format(notas,media))"
   ]
  },
  {
   "cell_type": "code",
   "execution_count": 2,
   "id": "d521f505",
   "metadata": {
    "scrolled": true
   },
   "outputs": [
    {
     "name": "stdout",
     "output_type": "stream",
     "text": [
      "Insira 10 caracteres: çaretofgskl\n",
      "ç\n",
      "r\n",
      "t\n",
      "f\n",
      "g\n",
      "s\n",
      "k\n",
      "l\n"
     ]
    }
   ],
   "source": [
    "'''Exercício 4 - Faça um Programa que leia um vetor de 10 caracteres, e diga quantas consoantes foram lidas. \n",
    "Imprima as consoantes.\n",
    "'''\n",
    "caract = str(input('Insira 10 caracteres: '))\n",
    "cont=0\n",
    "\n",
    "for i in caract:\n",
    "    if i != 'a' and i != 'e' and i != 'i'and i != 'o' and i != 'u':\n",
    "        cont+=1\n",
    "        print(i)\n",
    "\n",
    "  "
   ]
  },
  {
   "cell_type": "code",
   "execution_count": 17,
   "id": "10b753ed",
   "metadata": {},
   "outputs": [
    {
     "name": "stdout",
     "output_type": "stream",
     "text": [
      "Os números pares são: [0, 2, 4, 6, 8, 10, 12, 14, 16, 18, 20]\n",
      "Os números ímapres são: [1, 3, 5, 7, 9, 11, 13, 15, 17, 19]\n"
     ]
    }
   ],
   "source": [
    "'''Exercício 5 - Faça um Programa que leia 20 números inteiros e armazene-os num vetor. \n",
    "Armazene os números pares no vetor PAR e os números IMPARES no vetor impar. \n",
    "Imprima os três vetores.'''\n",
    "\n",
    "vetor=list(range(21))\n",
    "vetor_par=[]\n",
    "vetor_impar=[]\n",
    "count=0\n",
    "\n",
    "for i in vetor:\n",
    "    if i%2 == 0:\n",
    "        vetor_par.append(i)\n",
    "        count+=1\n",
    "        \n",
    "    else:\n",
    "        vetor_impar.append(i)\n",
    "        \n",
    "print('Os números pares são: {0}\\nOs números ímapres são: {1}'.format(vetor_par, vetor_impar))\n"
   ]
  },
  {
   "cell_type": "code",
   "execution_count": 3,
   "id": "086c127a",
   "metadata": {},
   "outputs": [
    {
     "name": "stdout",
     "output_type": "stream",
     "text": [
      "Insira sua nota:8\n",
      "Insira sua nota:8\n",
      "Insira sua nota:8\n",
      "Insira sua nota:8\n",
      "[8.0]\n",
      "Insira sua nota:5\n",
      "Insira sua nota:5\n",
      "Insira sua nota:5\n",
      "Insira sua nota:5\n",
      "\n",
      "1 alunos tiveram a nota maior que 7\n"
     ]
    }
   ],
   "source": [
    "'''Exercício 6 - Faça um Programa que peça as quatro notas de 10 alunos, calcule e armazene num vetor a média de cada aluno, \n",
    "imprima o número de alunos com média maior ou igual a 7.0.\n",
    "'''\n",
    "vetor_media=[]\n",
    "maior_sete=[]\n",
    "\n",
    "def media_por_aluno():\n",
    "    lista_aluno=[]\n",
    "\n",
    "    for nota in range(1,5):\n",
    "        nota = int(input('Insira sua nota:'))\n",
    "        lista_aluno.append(nota)\n",
    "    media= sum(lista_aluno)/4\n",
    "    vetor_media.append(media)\n",
    "\n",
    "    if media >=7:\n",
    "        maior_sete.append(media)\n",
    "        print(maior_sete)\n",
    "        \n",
    "\n",
    "media_por_aluno()\n",
    "\n",
    "while len(vetor_media)!=10:\n",
    "    media_por_aluno()\n",
    "print('\\n{} alunos tiveram a nota maior que 7'.format(len(maior_sete)))\n",
    "    "
   ]
  },
  {
   "cell_type": "code",
   "execution_count": 10,
   "id": "b42fdf6d",
   "metadata": {},
   "outputs": [
    {
     "name": "stdout",
     "output_type": "stream",
     "text": [
      "Insira outro número: 1\n",
      "Insira outro número: 1\n",
      "[1, 1]\n",
      "Insira outro número: 2\n",
      "[1, 1, 2]\n",
      "Insira outro número: 4\n",
      "[1, 1, 2, 4]\n",
      "Insira outro número: 2\n",
      "[1, 1, 2, 4, 2]\n",
      "\n",
      "Lista: [1, 1, 2, 4, 2]\n",
      "A soma dos vetores é: 10\n",
      "O produto dos vetores é: 16\n"
     ]
    }
   ],
   "source": [
    "'''Exercício 7 - Faça um Programa que leia um vetor de 5 números inteiros, mostre a soma, a multiplicação e os números'''\n",
    "\n",
    "vetor = int(input('Insira outro número: '))\n",
    "lista_vetor=[]\n",
    "lista_vetor.append(vetor)\n",
    "cont=0\n",
    "resultado = 1\n",
    "while cont!=4:\n",
    "    vetor = int(input('Insira outro número: '))\n",
    "    lista_vetor.append(vetor)\n",
    "    cont+=1\n",
    "    print(lista_vetor)\n",
    "\n",
    "\n",
    "def multiplicacao(minhalista):\n",
    "    result=1\n",
    "    for x in minhalista:\n",
    "        result*=x\n",
    "    return result\n",
    "                 \n",
    "\n",
    "print(f'\\nLista: {lista_vetor}')\n",
    "print(f'A soma dos vetores é: {sum(lista_vetor)}')\n",
    "print(f'O produto dos vetores é: {multiplicacao(lista_vetor)}')\n",
    "    "
   ]
  },
  {
   "cell_type": "code",
   "execution_count": 14,
   "id": "ee87b7ea",
   "metadata": {},
   "outputs": [
    {
     "name": "stdout",
     "output_type": "stream",
     "text": [
      "1º Pessoa\n",
      "Insira sua idade: 12\n",
      "Insira sua altura: 120\n",
      "2º Pessoa\n",
      "Insira sua idade: 13\n",
      "Insira sua altura: 130\n",
      "3º Pessoa\n",
      "Insira sua idade: 14\n",
      "Insira sua altura: 140\n",
      "4º Pessoa\n",
      "Insira sua idade: 15\n",
      "Insira sua altura: 150\n",
      "5º Pessoa\n",
      "Insira sua idade: 16\n",
      "Insira sua altura: 160\n",
      "\n",
      "ORDEM LIDA\n",
      "Vetor Idade - [12, 13, 14, 15, 16]\n",
      "Vetor Altura - [120, 130, 140, 150, 160]\n",
      "\n",
      "ORDEM INVERSA\n",
      "Vetor Idade - [16, 15, 14, 13, 12]\n",
      "Vetor Altura - [160, 150, 140, 130, 120]\n"
     ]
    }
   ],
   "source": [
    "'''Exercicio 8 - Faça um Programa que peça a idade e a altura de 5 pessoas, armazene cada informação no seu respectivo vetor. \n",
    "Imprima a idade e a altura na ordem inversa a ordem lida.\n",
    "'''\n",
    "contador=0\n",
    "idade=[]\n",
    "altura=[]\n",
    "while contador <5:\n",
    "    contador+=1\n",
    "    print('%dº Pessoa' %contador)\n",
    "    i=int(input('Insira sua idade: '))\n",
    "    idade.append(i)\n",
    "    a=int(input('Insira sua altura: '))\n",
    "    altura.append(a)\n",
    "print('\\nORDEM LIDA')    \n",
    "print(f'Vetor Idade - {idade}')\n",
    "print(f'Vetor Altura - {altura}')\n",
    "\n",
    "print('\\nORDEM INVERSA')\n",
    "print(f'Vetor Idade - {idade[::-1]}')\n",
    "print(f'Vetor Altura - {altura[::-1]}')\n"
   ]
  },
  {
   "cell_type": "code",
   "execution_count": 24,
   "id": "4b3ba580",
   "metadata": {},
   "outputs": [
    {
     "name": "stdout",
     "output_type": "stream",
     "text": [
      "Vetor A\n",
      "[1, 2, 3, 4, 5, 6, 7, 8, 9, 10]\n",
      "\n",
      "A soma do quadrado dos elementos é: 385\n"
     ]
    }
   ],
   "source": [
    "'''Exercicio 9 - Faça um Programa que leia um vetor A com 10 números inteiros, \n",
    "calcule e mostre a soma dos quadrados dos elementos do vetor.\n",
    "'''\n",
    "\n",
    "a=[]\n",
    "soma=[]\n",
    "\n",
    "for x in range(1,11):\n",
    "    a.append(x)\n",
    "    quadrado=x**2\n",
    "    soma.append(quadrado)\n",
    "print(f'Vetor A\\n{a}\\n')\n",
    "print(f'A soma do quadrado dos elementos é: {sum(soma)}')\n",
    "\n"
   ]
  },
  {
   "cell_type": "code",
   "execution_count": 16,
   "id": "f4e269f7",
   "metadata": {},
   "outputs": [
    {
     "name": "stdout",
     "output_type": "stream",
     "text": [
      "[1, 11, 2, 12, 3, 13, 4, 14, 5, 15, 6, 16, 7, 17, 8, 18, 9, 19, 10, 20]\n"
     ]
    }
   ],
   "source": [
    "'''Exercicio 10 - Faça um Programa que leia dois vetores com 10 elementos cada.\n",
    "Gere um terceiro vetor de 20 elementos, cujos valores deverão ser compostos pelos elementos intercalados \n",
    "dos dois outros vetores.\n",
    "'''\n",
    "\n",
    "a= list(range(1,11))\n",
    "b= list(range(11,22))\n",
    "c=[]\n",
    "\n",
    "for x in range(10):\n",
    "    c.append(a[x])\n",
    "    c.append(b[x])\n",
    "    \n",
    "print(c)\n"
   ]
  }
 ],
 "metadata": {
  "kernelspec": {
   "display_name": "Python 3 (ipykernel)",
   "language": "python",
   "name": "python3"
  },
  "language_info": {
   "codemirror_mode": {
    "name": "ipython",
    "version": 3
   },
   "file_extension": ".py",
   "mimetype": "text/x-python",
   "name": "python",
   "nbconvert_exporter": "python",
   "pygments_lexer": "ipython3",
   "version": "3.9.12"
  }
 },
 "nbformat": 4,
 "nbformat_minor": 5
}

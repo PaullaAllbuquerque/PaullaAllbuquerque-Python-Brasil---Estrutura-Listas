{
 "cells": [
  {
   "cell_type": "code",
   "execution_count": 2,
   "id": "646d6ac9",
   "metadata": {},
   "outputs": [
    {
     "name": "stdout",
     "output_type": "stream",
     "text": [
      "[1, 1, 1, 2, 2, 2, 3, 3, 3, 4, 4, 4, 5, 5, 5, 6, 6, 6, 7, 7, 7, 8, 8, 8, 9, 9, 9, 10, 10, 10]\n"
     ]
    }
   ],
   "source": [
    "'''Exercúcio 11 - Altere o programa anterior, intercalando 3 vetores de 10 elementos cada.\n",
    "'''\n",
    "a=[]\n",
    "b=[]\n",
    "c=[]\n",
    "d=[]\n",
    "\n",
    "for x in range(1,11):\n",
    "    a.append(x)\n",
    "    b.append(x)\n",
    "    c.append(x)\n",
    "    \n",
    "for z in range(10):\n",
    "    d.append(a[z])\n",
    "    d.append(b[z])\n",
    "    d.append(c[z])\n",
    "    \n",
    "print(d)"
   ]
  },
  {
   "cell_type": "code",
   "execution_count": 1,
   "id": "7628c5b3",
   "metadata": {},
   "outputs": [
    {
     "name": "stdout",
     "output_type": "stream",
     "text": [
      "\n",
      "1º Aluno\n",
      "Insira a idade: 11\n",
      "Insira a altura: 170\n",
      "\n",
      "2º Aluno\n",
      "Insira a idade: 13\n",
      "Insira a altura: 156\n",
      "\n",
      "3º Aluno\n",
      "Insira a idade: 14\n",
      "Insira a altura: 189\n",
      "\n",
      "4º Aluno\n",
      "Insira a idade: 17\n",
      "Insira a altura: 150\n",
      "\n",
      "5º Aluno\n",
      "Insira a idade: 19\n",
      "Insira a altura: 151\n",
      "\n",
      "6º Aluno\n",
      "Insira a idade: 24\n",
      "Insira a altura: 170\n",
      "\n",
      "2 possuem mais de 13 anos e tem altura abaixo da média\n"
     ]
    }
   ],
   "source": [
    "'''Exercício 12 - Foram anotadas as idades e alturas de 6 alunos. \n",
    "Faça um Programa que determine quantos alunos com mais de 13 anos possuem altura inferior à média de altura desses alunos.\n",
    "'''\n",
    "c=0\n",
    "altura=[]\n",
    "lista=[]\n",
    "\n",
    "\n",
    "while c <6:\n",
    "    c+=1\n",
    "    print('\\n%dº Aluno'%c)\n",
    "    i=int(input('Insira a idade: '))\n",
    "    a=int(input('Insira a altura: '))\n",
    "    altura.append(a)\n",
    "    media=(sum(altura)/len(altura))\n",
    "    if i>13 and a<media:\n",
    "        lista.append([i,a])\n",
    "print('\\n{} possuem mais de 13 anos e tem altura abaixo da média'.format(len(lista)))"
   ]
  },
  {
   "cell_type": "code",
   "execution_count": 80,
   "id": "0bf89e27",
   "metadata": {},
   "outputs": [
    {
     "name": "stdout",
     "output_type": "stream",
     "text": [
      "Insira a temperatura media do mês de Janeiro:32\n",
      "Insira a temperatura media do mês de Fevereiro:24\n",
      "Insira a temperatura media do mês de Março:17\n",
      "Insira a temperatura media do mês de Abril:30\n",
      "Insira a temperatura media do mês de Maio:32\n",
      "Insira a temperatura media do mês de Junho:24\n",
      "Insira a temperatura media do mês de Julho:17\n",
      "Insira a temperatura media do mês de Agosto:30\n",
      "Insira a temperatura media do mês de Setembro:32\n",
      "Insira a temperatura media do mês de Outubro:24\n",
      "Insira a temperatura media do mês de Novembro:17\n",
      "Insira a temperatura media do mês de Dezembro:30\n",
      "1-Janeiro : 32.0 ºC\n",
      "4-Abril : 30.0 ºC\n",
      "5-Maio : 32.0 ºC\n",
      "8-Agosto : 30.0 ºC\n",
      "9-Setembro : 32.0 ºC\n",
      "12-Dezembro : 30.0 ºC\n"
     ]
    }
   ],
   "source": [
    "'''Exercício 13 - Faça um programa que receba a temperatura média de cada mês do ano e armazene-as em uma lista. \n",
    "Após isto, calcule a média anual das temperaturas e mostre todas as temperaturas acima da média anual, \n",
    "e em que mês elas ocorreram (mostrar o mês por extenso: 1 – Janeiro, 2 – Fevereiro, . . . ).\n",
    "'''\n",
    "mes=['Janeiro', 'Fevereiro','Março', 'Abril','Maio','Junho','Julho','Agosto','Setembro','Outubro','Novembro','Dezembro']\n",
    "temperatura=[]\n",
    "for m in range(0,len(mes)):\n",
    "    temperatura.append(float(input('Insira a temperatura media do mês de '+mes[m]+ ':')))\n",
    "    \n",
    "    \n",
    "media=sum(temperatura)/len(temperatura)\n",
    "for m in range(0,len(temperatura)):\n",
    "    if temperatura[m]>media:\n",
    "        print(str(m+1)+'-'+mes[m],':',temperatura[m],'ºC')\n",
    "       "
   ]
  },
  {
   "cell_type": "code",
   "execution_count": 99,
   "id": "2f0f4c37",
   "metadata": {},
   "outputs": [
    {
     "name": "stdout",
     "output_type": "stream",
     "text": [
      "Telefonou para a vítima?s\n",
      "Esteve no local do crime?s\n",
      "Mora perto da vítima?s\n",
      "Devia para a vítima?n\n",
      "Já trabalhou com a vítima?n\n",
      "\n",
      "CUMPLICE\n"
     ]
    }
   ],
   "source": [
    "'''Exercício 14 - Utilizando listas faça um programa que faça 5 perguntas para uma pessoa sobre um crime.\n",
    "As perguntas são:\n",
    "\"Telefonou para a vítima?\"\n",
    "\"Esteve no local do crime?\"\n",
    "\"Mora perto da vítima?\"\n",
    "\"Devia para a vítima?\"\n",
    "\"Já trabalhou com a vítima?\"\n",
    "O programa deve no final emitir uma classificação sobre a participação da pessoa no crime. \n",
    "Se a pessoa responder positivamente a 2 questões ela deve ser classificada como \"Suspeita\", entre 3 e 4 como \n",
    "\"Cúmplice\" e 5 como \"Assassino\". Caso contrário, ele será classificado como \"Inocente\".\n",
    "'''\n",
    "\n",
    "respostas=[]\n",
    "p=str(input('Telefonou para a vítima?')).upper()\n",
    "if p == 'S':\n",
    "    respostas.append(p)\n",
    "p=str(input('Esteve no local do crime?')).upper()\n",
    "if p == 'S':\n",
    "    respostas.append(p)\n",
    "p=str(input('Mora perto da vítima?')).upper()\n",
    "if p == 'S':\n",
    "    respostas.append(p)\n",
    "p=str(input('Devia para a vítima?')).upper()\n",
    "if p == 'S':\n",
    "    respostas.append(p)\n",
    "p=str(input('Já trabalhou com a vítima?')).upper()\n",
    "if p == 'S':\n",
    "    respostas.append(p)\n",
    "\n",
    "if len(respostas)==5:\n",
    "    print('\\nASSASSINO')\n",
    "elif len(respostas) <5 and len(respostas)>2:\n",
    "    print('\\nCUMPLICE')\n",
    "elif len(respostas)==2:\n",
    "    print('\\nSUSPEITO')\n",
    "else:\n",
    "    print('\\nLIBERADA')"
   ]
  },
  {
   "cell_type": "code",
   "execution_count": 157,
   "id": "08573fae",
   "metadata": {},
   "outputs": [
    {
     "name": "stdout",
     "output_type": "stream",
     "text": [
      "Insira um valor da nota: 8\n",
      "Insira um valor da nota: 9\n",
      "Insira um valor da nota: 6\n",
      "Insira um valor da nota: -1\n",
      "\n",
      "Quantidade de valores lidos: 3\n",
      "Valores na ordem lida: [8, 9, 6]\n",
      "Valores em ordem ivertida: \n",
      "6\n",
      "9\n",
      "8\n",
      "Soma dos valores:23\n",
      "Media dos valores: 7.666666666666667\n",
      "2 valores ficaram acima da média\n",
      "1 valores ficaram abaixo de sete\n"
     ]
    }
   ],
   "source": [
    "'''Exercício 15 - Faça um programa que leia um número indeterminado de valores, correspondentes a notas,\n",
    "encerrando a entrada de dados quando for informado um valor igual a -1 (que não deve ser armazenado).\n",
    "\n",
    "Após esta entrada de dados, faça:\n",
    "Mostre a quantidade de valores que foram lidos; *\n",
    "Exiba todos os valores na ordem em que foram informados, um ao lado do outro;*\n",
    "Exiba todos os valores na ordem inversa à que foram informados, um abaixo do outro;\n",
    "Calcule e mostre a soma dos valores;*\n",
    "Calcule e mostre a média dos valores;*\n",
    "Calcule e mostre a quantidade de valores acima da média calculada;*\n",
    "Calcule e mostre a quantidade de valores abaixo de sete;*\n",
    "Encerre o programa com uma mensagem;'''\n",
    "\n",
    "listaVal=[]\n",
    "c=0\n",
    "v=0\n",
    "maiorMedia=[]\n",
    "menorSete=[]\n",
    "while v != -1:\n",
    "    v=int(input('Insira um valor da nota: '))\n",
    "    if v != -1:\n",
    "        listaVal.append(v)\n",
    "        if v>mediaVal:\n",
    "            maiorMedia.append(v)\n",
    "        elif v<7:\n",
    "            menorSete.append(v)\n",
    "    c+=1\n",
    "    mediaVal=sum(listaVal)/len(listaVal)\n",
    "rev=list(reversed(listaVal))\n",
    "\n",
    "\n",
    "print(f'\\nQuantidade de valores lidos: {len(listaVal)}')\n",
    "print(f'Valores na ordem lida: {listaVal}')\n",
    "print('Valores em ordem ivertida: ', end=\"\\n\")\n",
    "print(*rev, sep='\\n')\n",
    "print(f'Soma dos valores:{sum(listaVal)}')\n",
    "print(f'Media dos valores: {mediaVal}')\n",
    "print(f'{len(maiorMedia)} valores ficaram acima da média')\n",
    "print(f'{len(menorSete)} valores ficaram abaixo de sete')\n",
    "\n"
   ]
  },
  {
   "cell_type": "code",
   "execution_count": 87,
   "id": "650dde0a",
   "metadata": {
    "scrolled": true
   },
   "outputs": [
    {
     "name": "stdout",
     "output_type": "stream",
     "text": [
      "Insira o valor da venda: 2000\n",
      "Insira o valor da venda: 3000\n",
      "Insira o valor da venda: 4200\n",
      "Insira o valor da venda: 10000\n",
      "Insira o valor da venda: 0\n",
      "=-=-=-=-=-=-=-=-=-=-=-=-=-=-=-=-=-=-=-=-=-=-=-=-=-=-=-=-=-=-\n",
      "Entre R$200 e R$299:0\n",
      "Entre R$300 e R$399:1\n",
      "Entre R$400 e R$499:1\n",
      "Entre R$500 e R$599:1\n",
      "Entre R$600 e R$699:0\n",
      "Entre R$700 e R$799:0\n",
      "Entre R$800 e R$899:0\n",
      "Entre R$900 e R$999:0\n",
      "Acima de R$1000: 1\n"
     ]
    }
   ],
   "source": [
    "'''Exercício 16 - Utilize uma lista para resolver o problema a seguir. \n",
    "Uma empresa paga seus vendedores com base em comissões. \n",
    "O vendedor recebe $200 por semana mais 9 por cento de suas vendas brutas daquela semana. \n",
    "Por exemplo, um vendedor que teve vendas brutas de $3000 em uma semana recebe $200 mais 9 por cento de $3000, ou seja, \n",
    "um total de $470. Escreva um programa (usando um array de contadores) que determine quantos vendedores receberam salários \n",
    "nos seguintes intervalos de valores:\n",
    "$200 - $299\n",
    "$300 - $399\n",
    "$400 - $499\n",
    "$500 - $599\n",
    "$600 - $699\n",
    "$700 - $799\n",
    "$800 - $899\n",
    "$900 - $999\n",
    "$1000 em diante\n",
    "Desafio: Crie ma fórmula para chegar na posição da lista a partir do salário, sem fazer vários ifs aninhados.'''\n",
    "\n",
    "s = [\n",
    "    [200,299],[300,399],[400,499],\n",
    "    [500,599],[600,699], [700,799],\n",
    "    [800,899],[900,999]\n",
    "    ]\n",
    "posicoes=[0]*9\n",
    "salarios=[]\n",
    "vendaBruta=True\n",
    "while vendaBruta != 0:\n",
    "    vendaBruta=float(input('Insira o valor da venda: '))\n",
    "    if vendaBruta==0:\n",
    "        break\n",
    "    else:\n",
    "        salario=(0.09*vendaBruta)+200\n",
    "        if salario<1000:\n",
    "            for i in range(len(s)):#\n",
    "                if salario>s[i][0] and salario<s[i][1]:\n",
    "                    posicoes[i]+=1\n",
    "        else:\n",
    "            posicoes[8]+=1\n",
    "print('=-'*30)\n",
    "for i in range(len(s)):\n",
    "    print(f'Entre R${s[i][0]} e R${s[i][1]}:{posicoes[i]}')\n",
    "print(f'Acima de R$1000: {posicoes[8]}')\n",
    "                \n",
    "                "
   ]
  },
  {
   "cell_type": "code",
   "execution_count": 1,
   "id": "194ebb7e",
   "metadata": {},
   "outputs": [
    {
     "name": "stdout",
     "output_type": "stream",
     "text": [
      "Alteta: paula\n",
      "Primeiro salto: 10\n",
      "Segundo salto: 20\n",
      "Terceiro salto: 10\n",
      "Quarto salto: 15\n",
      "Quinto salto: 22\n",
      "Alteta: \n",
      "------------------------------\n",
      "RESULTADO FINAL:\n",
      "Saltos: {salto}\n",
      "Media dos Saltos: 15.4 m\n"
     ]
    }
   ],
   "source": [
    "'''Exercício 17 - Em uma competição de salto em distância cada atleta tem direito a cinco saltos. \n",
    "O resultado do atleta será determinado pela média dos cinco valores restantes. \n",
    "Você deve fazer um programa que receba o nome e as cinco distâncias alcançadas pelo atleta em seus saltos e\n",
    "depois informe o nome, os saltos e a média dos saltos. O programa deve ser encerrado quando não for \n",
    "informado o nome do atleta. A saída do programa deve ser conforme o exemplo abaixo:\n",
    "Atleta: Rodrigo Curvêllo\n",
    " \n",
    "Primeiro Salto: 6.5 m\n",
    "Segundo Salto: 6.1 m\n",
    "Terceiro Salto: 6.2 m\n",
    "Quarto Salto: 5.4 m\n",
    "Quinto Salto: 5.3 m\n",
    "\n",
    "Resultado final:\n",
    "Atleta: Rodrigo Curvêllo\n",
    "Saltos: 6.5 - 6.1 - 6.2 - 5.4 - 5.3\n",
    "Média dos saltos: 5.9 m'''\n",
    "\n",
    "posicao = 'Primeiro', 'Segundo', 'Terceiro', 'Quarto', 'Quinto'\n",
    "melhorSalto=piorSalto=contagem=mediaSaltos=totalSaltos=media=0\n",
    "\n",
    "while True:\n",
    "    atleta=input('Alteta: ')\n",
    "    if atleta == '':\n",
    "        break\n",
    "    for c in range(0,5):\n",
    "        salto=float(input(f'{posicao[c]} salto: '))\n",
    "        contagem+=1\n",
    "        mediaSaltos+=1            \n",
    "\n",
    "        if salto > melhorSalto:\n",
    "            melhorSalto=salto\n",
    "        if salto < piorSalto or contagem == 1:\n",
    "            piorSalto=salto\n",
    "        totalSaltos+=salto\n",
    "        media=totalSaltos/mediaSaltos\n",
    "\n",
    "print('-'*30)\n",
    "print('RESULTADO FINAL:')\n",
    "print('Saltos: {salto}')\n",
    "print(f'Media dos Saltos: {media} m')\n",
    "\n",
    "\n",
    "    "
   ]
  },
  {
   "cell_type": "code",
   "execution_count": 60,
   "id": "a96591b8",
   "metadata": {},
   "outputs": [
    {
     "name": "stdout",
     "output_type": "stream",
     "text": [
      "Voto 1\n",
      "Digite o número do jogador: 4\n",
      "Voto 2\n",
      "Digite o número do jogador: 5\n",
      "Voto 3\n",
      "Digite o número do jogador: 9\n",
      "Voto 4\n",
      "Digite o número do jogador: 12\n",
      "Voto 5\n",
      "Digite o número do jogador: 13\n",
      "Voto 6\n",
      "Digite o número do jogador: 4\n",
      "Voto 7\n",
      "Digite o número do jogador: 4\n",
      "Voto 8\n",
      "Digite o número do jogador: 8\n",
      "Voto 9\n",
      "Digite o número do jogador: 9\n",
      "Voto 10\n",
      "Digite o número do jogador: 4\n",
      "Voto 11\n",
      "Digite o número do jogador: 0\n",
      "=-=-=-=-=-=-=-=-=-=-=-=-=-=-=-=-=-=-=-=-=-=-=-=-=-=-=-=-=-=-\n",
      "RESULTADO DA VOTAÇÃO\n",
      "Total de votos: 10\n",
      "Camisa 4 - 4 votos\n",
      "Percentual de votos: 40.0%\n",
      "Camisa 5 - 1 votos\n",
      "Percentual de votos: 10.0%\n",
      "Camisa 8 - 1 votos\n",
      "Percentual de votos: 10.0%\n",
      "Camisa 9 - 2 votos\n",
      "Percentual de votos: 20.0%\n",
      "Camisa 12 - 1 votos\n",
      "Percentual de votos: 10.0%\n",
      "Camisa 13 - 1 votos\n",
      "Percentual de votos: 10.0%\n",
      "Jogador mais votado: 4 com 4 de votos.\n",
      "Ganhou com 40.0 % dos votos.\n"
     ]
    }
   ],
   "source": [
    "'''Exercício 18 - Uma grande emissora de televisão quer fazer uma enquete entre os seus telespectadores para saber \n",
    "qual o melhor jogador após cada jogo. Para isto, faz-se necessário o desenvolvimento de um programa, \n",
    "que será utilizado pelas telefonistas, para a computação dos votos. \n",
    "Sua equipe foi contratada para desenvolver este programa, utilizando a linguagem de programação python. \n",
    "Para computar cada voto, a telefonista digitará um número, entre 1 e 23, correspondente ao número da camisa do jogador.\n",
    "Um número de jogador igual zero, indica que a votação foi encerrada. Se um número inválido for digitado, \n",
    "o programa deve ignorá-lo, mostrando uma breve mensagem de aviso, e voltando a pedir outro número. \n",
    "Após o final da votação, o programa deverá exibir:\n",
    "O total de votos computados;\n",
    "Os números e respectivos votos de todos os jogadores que receberam votos;\n",
    "O percentual de votos de cada um destes jogadores;\n",
    "O número do jogador escolhido como o melhor jogador da partida, juntamente com o número de votos e o \n",
    "percentual de votos dados a ele.\n",
    "Observe que os votos inválidos e o zero final não devem ser computados como votos. \n",
    "O resultado aparece ordenado pelo número do jogador. O programa deve fazer uso de arrays.\n",
    "O programa deverá executar o cálculo do percentual de cada jogador através de uma função. \n",
    "Esta função receberá dois parâmetros: o número de votos de um jogador e o total de votos. \n",
    "A função calculará o percentual e retornará o valor calculado. Abaixo segue uma tela de exemplo.\n",
    "O disposição das informações deve ser o mais próxima possível ao exemplo.\n",
    "Os dados são fictícios e podem mudar a cada execução do programa. \n",
    "Ao final, o programa deve ainda gravar os dados referentes ao resultado da votação em um arquivo texto no disco,\n",
    "obedecendo a mesma disposição apresentada na tela.\n",
    "Enquete: Quem foi o melhor jogador?\n",
    "\n",
    "Número do jogador (0=fim): 9\n",
    "Número do jogador (0=fim): 10\n",
    "Número do jogador (0=fim): 9\n",
    "Número do jogador (0=fim): 10\n",
    "Número do jogador (0=fim): 11\n",
    "Número do jogador (0=fim): 10\n",
    "Número do jogador (0=fim): 50\n",
    "Informe um valor entre 1 e 23 ou 0 para sair!\n",
    "Número do jogador (0=fim): 9\n",
    "Número do jogador (0=fim): 9\n",
    "Número do jogador (0=fim): 0\n",
    "\n",
    "Resultado da votação:\n",
    "\n",
    "Foram computados 8 votos.\n",
    "\n",
    "Jogador Votos           %\n",
    "9               4               50,0%\n",
    "10              3               37,5%\n",
    "11              1               12,5%\n",
    "O melhor jogador foi o número 9, com 4 votos, correspondendo a 50% do total de votos.\n",
    "'''\n",
    "votos=[]\n",
    "votados=[]\n",
    "numVotados=[]\n",
    "voto=True\n",
    "numVoto=1\n",
    "while voto!=0:\n",
    "    print(f'Voto {numVoto}')\n",
    "    voto=int(input('Digite o número do jogador: '))\n",
    "    if voto==0:\n",
    "        break\n",
    "    else:\n",
    "        while voto>23 or voto<1:\n",
    "            print('NÚMERO INVÁLIDO')\n",
    "            print(f'Voto {numVoto}')\n",
    "            voto=int(input('Digite novamente: '))\n",
    "        votos.append(voto)\n",
    "    numVoto+=1\n",
    "\n",
    "print('\\n'*2)\n",
    "print('{:<19}{:>10}{:>4}'.format('Sistema Operacional', 'Votos', '%'))\n",
    "print('{:<19}{:>10}{:>4}'.format('-'*19, '-'*5, '-'*3))\n",
    "print('RESULTADO DA VOTAÇÃO')\n",
    "print(f'Total de votos: {len(votos)}')\n",
    "cont=0\n",
    "for j in range(23):\n",
    "    if cont not in votos:\n",
    "        cont+=1\n",
    "        continue\n",
    "    else:\n",
    "        votados.append(votos.count(cont))\n",
    "        numVotados.append(cont)\n",
    "        print(f'Camisa {cont} - {votos.count(cont)} votos')\n",
    "        print(f'Percentual de votos: {round(100*votos.count(cont)/len(votos),2)}%')\n",
    "        cont+=1\n",
    "\n",
    "melhor= votados.index(max(votados))\n",
    "print(f'Jogador mais votado: {numVotados[melhor]} com {votados[melhor]} de votos.')\n",
    "print(f'Ganhou com {round(100*votados[melhor]/len(votos),2)} % dos votos.')\n",
    "        "
   ]
  },
  {
   "cell_type": "code",
   "execution_count": 106,
   "id": "85d16d02",
   "metadata": {},
   "outputs": [
    {
     "name": "stdout",
     "output_type": "stream",
     "text": [
      "\n",
      "Eleitor nº 1\n",
      "\n",
      "Digite seu voto [1 a 6] ou digite [0] para sair: 5\n",
      "\n",
      "Eleitor nº 2\n",
      "\n",
      "Digite seu voto [1 a 6] ou digite [0] para sair: 5\n",
      "\n",
      "Eleitor nº 3\n",
      "\n",
      "Digite seu voto [1 a 6] ou digite [0] para sair: 5\n",
      "\n",
      "Eleitor nº 4\n",
      "\n",
      "Digite seu voto [1 a 6] ou digite [0] para sair: 1\n",
      "\n",
      "Eleitor nº 5\n",
      "\n",
      "Digite seu voto [1 a 6] ou digite [0] para sair: 2\n",
      "\n",
      "Eleitor nº 6\n",
      "\n",
      "Digite seu voto [1 a 6] ou digite [0] para sair: 0\n",
      "\n",
      "\n",
      "\n",
      "Sistema Operacional     Votos   %\n",
      "-------------------     ----- ---\n",
      "Windows Server              1  20%\n",
      "Unix                        1  20%\n",
      "Linux                       0   0%\n",
      "Netware                     0   0%\n",
      "Mac OS                      3  60%\n",
      "Outro                       0   0%\n",
      "-------------------     -----\n",
      "Total                       5 votos\n",
      "\n",
      "O Sistema mais voitado foi 3 com 3 votos, com 60 % dos votos\n"
     ]
    }
   ],
   "source": [
    "'''Exercício 19 - uma empresa de pesquisas precisa tabular os resultados da seguinte enquete feita a um \n",
    "grande quantidade de organizações:\n",
    "\"Qual o melhor Sistema Operacional para uso em servidores?\"\n",
    "\n",
    "As possíveis respostas são:\n",
    "\n",
    "1- Windows Server\n",
    "2- Unix\n",
    "3- Linux\n",
    "4- Netware\n",
    "5- Mac OS\n",
    "6- Outro\n",
    "Você foi contratado para desenvolver um programa que leia o resultado da enquete e informe ao final o \n",
    "resultado da mesma. O programa deverá ler os valores até ser informado o valor 0, que encerra a entrada dos dados.\n",
    "Não deverão ser aceitos valores além dos válidos para o programa (0 a 6).\n",
    "Os valores referentes a cada uma das opções devem ser armazenados num vetor. \n",
    "\n",
    "Após os dados terem sido completamente informados, \n",
    "o programa deverá calcular a percentual de cada um dos concorrentes \n",
    "\n",
    "e informar o vencedor da enquete. \n",
    "O formato da saída foi dado pela empresa, e é o seguinte:\n",
    "Sistema Operacional     Votos   %\n",
    "-------------------     -----   ---\n",
    "Windows Server           1500   17%\n",
    "Unix                     3500   40%\n",
    "Linux                    3000   34%\n",
    "Netware                   500    5%\n",
    "Mac OS                    150    2%\n",
    "Outro                     150    2%\n",
    "-------------------     -----\n",
    "Total                    8800\n",
    "\n",
    "O Sistema Operacional mais votado foi o Unix, com 3500 votos, correspondendo a 40% dos votos.\n",
    "'''\n",
    "\n",
    "eleitor=True\n",
    "numEleitor=1\n",
    "urna=[]\n",
    "vitoria=[]\n",
    "porcentoVitoria=[]\n",
    "sistemas = ['Windows Server','Unix','Linux','Netware','Mac OS','Outro']\n",
    "\n",
    "while eleitor != 0:\n",
    "    print(f'\\nEleitor nº {numEleitor}')\n",
    "    voto=int(input('\\nDigite seu voto [1 a 6] ou digite [0] para sair: '))\n",
    "    if voto == 0:\n",
    "        break\n",
    "    else:\n",
    "        if voto<0 or voto> 6:\n",
    "            print(f'[NÚMERO INVÁLIDO]')\n",
    "            voto=int(input('Digite novamente:'))\n",
    "            print(f'\\n[VOTO CONFIRMADO]')\n",
    "    urna.append(voto)\n",
    "    numEleitor+=1\n",
    "\n",
    "print('\\n' * 2)\n",
    "print('{:<19}{:>10}{:>4}'.format('Sistema Operacional','Votos','%'))\n",
    "print('{:<19}{:>10}{:>4}'.format('-'*19,'-'*5,'-'*3))\n",
    "\n",
    "cont=0\n",
    "for sist in range(0,len(sistemas)):\n",
    "    porcento=round((urna.count(cont+1))/len(urna)*100)\n",
    "    print('{:<19}{:>10}{:>4}%'.format(sistemas[cont],urna.count(cont+1), porcento))\n",
    "    cont+=1\n",
    "    vitoria.append(urna.count(cont+1))\n",
    "    porcentoVitoria.append(porcento)\n",
    "print('{:<19}{:>10}'.format('-'*19,'-'*5))\n",
    "print('{:<19}{:>10} votos'.format('Total',len(urna)))\n",
    "vitorias=max(vitoria)\n",
    "for vit in range(0,len(sistemas)):\n",
    "    if vitoria[vit] == vitorias:\n",
    "        print('\\nO Sistema mais voitado foi', vitoria[vit], end=' ')\n",
    "print('com', max(vitoria), 'votos, com', max(porcentoVitoria), '% dos votos')\n",
    "\n",
    "    "
   ]
  },
  {
   "cell_type": "code",
   "execution_count": 164,
   "id": "407106e8",
   "metadata": {},
   "outputs": [
    {
     "name": "stdout",
     "output_type": "stream",
     "text": [
      "Projeção de gastos com abono\n",
      "==============================\n",
      "Salário [1]:1000\n",
      "Salário [2]:8000\n",
      "Salário [3]:12000\n",
      "Salário [4]:2000\n",
      "Salário [5]:0\n",
      "\n",
      "\n",
      "\n",
      "SALÁRIO      ABONO\n",
      "---------   --------\n",
      "R$1000       R$100     \n",
      "R$8000       R$160.0   \n",
      "R$12000      R$240.0   \n",
      "R$2000       R$100     \n",
      "\n",
      "Foram processados 4 colaboradores\n",
      "Total de gastos com abonos: R$600.0\n",
      "Valor mínimo pago a 2 colaborador(s)\n",
      "Maior valor de abono pago: R$240.0\n"
     ]
    },
    {
     "data": {
      "text/plain": [
       "'Foram processados 5 colaboradores\\nTotal gasto com abonos: R$ 1400.00\\nValor mínimo pago a 3 colaboradores\\nMaior valor de abono pago: R$ 900.00'"
      ]
     },
     "execution_count": 164,
     "metadata": {},
     "output_type": "execute_result"
    }
   ],
   "source": [
    "'''Exercício 20 - As Organizações Tabajara resolveram dar um abono aos seus colaboradores em reconhecimento\n",
    "ao bom resultado alcançado durante o ano que passou. Para isto contratou você para desenvolver a \n",
    "aplicação que servirá como uma projeção de quanto será gasto com o pagamento deste abono.\n",
    "Após reuniões envolvendo a diretoria executiva, a diretoria financeira e os representantes do sindicato laboral,\n",
    "chegou-se a seguinte forma de cálculo:\n",
    "a.Cada funcionário receberá o equivalente a 20% do seu salário bruto de dezembro; a.O piso do abono será de 100 reais, \n",
    "isto é, aqueles funcionários cujo salário for muito baixo, recebem este valor mínimo; Neste momento, \n",
    "não se deve ter nenhuma preocupação com colaboradores com tempo menor de casa, descontos,\n",
    "impostos ou outras particularidades. Seu programa deverá permitir a \n",
    "digitação do salário de um número indefinido (desconhecido) de salários. \n",
    "Um valor de salário igual a 0 (zero) encerra a digitação. Após a entrada de todos os dados o programa deverá \n",
    "calcular o valor do abono concedido a cada colaborador, de acordo com a regra definida acima. Ao final, \n",
    "o programa deverá apresentar:\n",
    "O salário de cada funcionário, juntamente com o valor do abono;\n",
    "O número total de funcionário processados;\n",
    "O valor total a ser gasto com o pagamento do abono;\n",
    "O número de funcionário que receberá o valor mínimo de 100 reais;\n",
    "O maior valor pago como abono; A tela abaixo é um exemplo de execução do programa, apenas para fins ilustrativos. \n",
    "Os valores podem mudar a cada execução do programa.\n",
    "Projeção de Gastos com Abono\n",
    "============================ \n",
    " \n",
    "Salário: 1000\n",
    "Salário: 300\n",
    "Salário: 500\n",
    "Salário: 100\n",
    "Salário: 4500\n",
    "Salário: 0\n",
    " \n",
    "Salário    - Abono     \n",
    "R$ 1000.00 - R$  200.00\n",
    "R$  300.00 - R$  100.00\n",
    "R$  500.00 - R$  100.00\n",
    "R$  100.00 - R$  100.00\n",
    "R$ 4500.00 - R$  900.00\n",
    " \n",
    "Foram processados 5 colaboradores\n",
    "Total gasto com abonos: R$ 1400.00\n",
    "Valor mínimo pago a 3 colaboradores\n",
    "Maior valor de abono pago: R$ 900.00'''\n",
    "\n",
    "funcionario=0\n",
    "sal=[]\n",
    "abon=[]\n",
    "print('Projeção de gastos com abono')\n",
    "print('='*30)\n",
    "\n",
    "while True:\n",
    "    salario=int(input(f'Salário [{funcionario+1}]:'))\n",
    "    sal.append(salario)\n",
    "    if salario == 0:\n",
    "        sal.remove(salario)\n",
    "        break\n",
    "    funcionario+=1\n",
    "print('\\n'*2)\n",
    "print('{:<10}{:>8}'.format('SALÁRIO', 'ABONO'))\n",
    "print('{:<10}{:>10}'.format('-'*9, '-'*8))\n",
    "\n",
    "for a in range(len(sal)):\n",
    "    abono=0.02*sal[a]\n",
    "    if abono <100:\n",
    "        abono=100\n",
    "    print('R${:<10} R${:<8}'.format(sal[a],abono))\n",
    "    abon.append(abono)\n",
    "    \n",
    "print(f'\\nForam processados {len(sal)} colaboradores')\n",
    "print(f'Total de gastos com abonos: R${sum(abon)}')\n",
    "\n",
    "vMin=abon.count(100)\n",
    "print(f'Valor mínimo pago a {vMin} colaborador(s)')\n",
    "\n",
    "vMax=max(abon)\n",
    "print(f'Maior valor de abono pago: R${vMax}')\n",
    "        \n",
    "\n",
    "'''Foram processados 5 colaboradores\n",
    "Total gasto com abonos: R$ 1400.00\n",
    "Valor mínimo pago a 3 colaboradores\n",
    "Maior valor de abono pago: R$ 900.00'''\n",
    "\n"
   ]
  },
  {
   "cell_type": "code",
   "execution_count": 147,
   "id": "ba355e26",
   "metadata": {
    "scrolled": true
   },
   "outputs": [
    {
     "name": "stdout",
     "output_type": "stream",
     "text": [
      "Posição 0 - 4\n",
      "Posição 1 - 7\n",
      "Posição 2 - 5\n",
      "Posição 3 - 1\n"
     ]
    }
   ],
   "source": [
    "num=[2,5,9,1]\n",
    "num.append(7)\n",
    "num.sort\n",
    "num.sort(reverse=True)\n",
    "num.insert(1, 4)# primeiro numero é a posiçao, segundo é o valor\n",
    "num.pop(4)\n",
    "num.remove(9)\n",
    "for p,v in enumerate(num):\n",
    "    print(f'Posição {p} - {v}')\n"
   ]
  },
  {
   "cell_type": "code",
   "execution_count": 112,
   "id": "10ac49aa",
   "metadata": {},
   "outputs": [
    {
     "name": "stdout",
     "output_type": "stream",
     "text": [
      "[1, 2, 3, 4]\n",
      "Posição 0 - valor1\n",
      "Posição 1 - valor2\n",
      "Posição 2 - valor3\n",
      "Posição 3 - valor4\n"
     ]
    }
   ],
   "source": [
    "lista=[]\n",
    "for cont in range(1,5):\n",
    "    lista.append(cont)\n",
    "print(lista)\n",
    "\n",
    "for p,v in enumerate(lista):\n",
    "    print(f'Posição {p} - valor{v}')"
   ]
  },
  {
   "cell_type": "code",
   "execution_count": 123,
   "id": "a9ee986b",
   "metadata": {},
   "outputs": [
    {
     "name": "stdout",
     "output_type": "stream",
     "text": [
      "[1, 2, 3, 4, 5, 6, 7, 8, 9]\n",
      "A= [1, 2, 3, 4, 5, 10, 7, 8, 9]\n",
      "B= [1, 2, 3, 4, 5, 6, 7, 8, 9]\n"
     ]
    }
   ],
   "source": [
    "#copia de lista\n",
    "\n",
    "a=list(range(1,10))\n",
    "b=a[:] #copia\n",
    "print(b)\n",
    "\n",
    "a[5]=10\n",
    "print(f'A= {a}')\n",
    "print(f'B= {b}')"
   ]
  },
  {
   "cell_type": "code",
   "execution_count": 171,
   "id": "4faa515b",
   "metadata": {},
   "outputs": [
    {
     "name": "stdout",
     "output_type": "stream",
     "text": [
      "Insira um valor na posição 0: 69\n",
      "Insira um valor na posição 1: 4\n",
      "Insira um valor na posição 2: 9\n",
      "Insira um valor na posição 3: 4\n",
      "Insira um valor na posição 4: 8\n",
      "==============================\n",
      "Lista: [69, 4, 9, 4, 8]\n",
      "Maior número: 69 - posicões: 0...\n",
      "Menor número: 4 - posicões: 1...3..."
     ]
    }
   ],
   "source": [
    "\n",
    "lista=list()\n",
    "\n",
    "maior=0\n",
    "menor=0\n",
    "for cont in range(0,5):\n",
    "    lista.append(int(input(f'Insira um valor na posição {cont}: ')))\n",
    "    if cont == 0:\n",
    "        maior=menor=lista[cont]\n",
    "    else:\n",
    "        if lista[cont]>maior:\n",
    "            maior = lista[cont]\n",
    "        if lista[cont]<menor:\n",
    "            menor = lista[cont]\n",
    "            \n",
    "print('='*30)\n",
    "print(f'Lista: {lista}')\n",
    "\n",
    "print(f'Maior número: {maior} - posicões: ', end='')\n",
    "for p,v in enumerate(lista):\n",
    "    if v == maior:\n",
    "        print(f'{p}...', end='')\n",
    "        \n",
    "print(f'\\nMenor número: {menor} - posicões: ', end='')\n",
    "for p,v in enumerate(lista):\n",
    "    if v == menor:\n",
    "        print(f'{p}...', end='')\n",
    "\n"
   ]
  },
  {
   "cell_type": "code",
   "execution_count": 182,
   "id": "97af2685",
   "metadata": {},
   "outputs": [
    {
     "name": "stdout",
     "output_type": "stream",
     "text": [
      "Insira um valor: 7\n",
      "Quer continuar? [s/n]s\n",
      "Insira um valor: 5\n",
      "Quer continuar? [s/n]s\n",
      "Insira um valor: 6\n",
      "Quer continuar? [s/n]s\n",
      "Insira um valor: 7\n",
      "Valor duplicado não adicionado\n",
      "Quer continuar? [s/n]n\n",
      "==============================\n",
      "Lista crescente: [5, 6, 7]\n"
     ]
    }
   ],
   "source": [
    "lista = []\n",
    "while True:\n",
    "    num=(int(input(f'Insira um valor: ')))\n",
    "    if num not in lista:\n",
    "        lista.append(num)\n",
    "    else: \n",
    "        print(f'Valor duplicado não adicionado')\n",
    "    p=str(input(f'Quer continuar? [s/n]')).upper()\n",
    "    if p =='N':\n",
    "        break\n",
    "print('='*30)\n",
    "lista.sort()\n",
    "print(f'Lista crescente: {lista}')\n",
    "    "
   ]
  },
  {
   "cell_type": "code",
   "execution_count": 192,
   "id": "c85346f0",
   "metadata": {},
   "outputs": [
    {
     "name": "stdout",
     "output_type": "stream",
     "text": [
      "Insira um número: 5\n",
      "Insira um número: 4\n",
      "Insira um número: 7\n",
      "Insira um número: 6\n",
      "Insira um número: 9\n",
      "==============================\n",
      "[4, 5, 6, 7, 9]\n"
     ]
    }
   ],
   "source": [
    "lista = []\n",
    "for cont in range(0,5):\n",
    "    n=int(input(f'Insira um número: '))\n",
    "    if cont== 0 or n>lista[-1]:\n",
    "        lista.append(n)\n",
    "    else:\n",
    "        p=0\n",
    "        while p < len(lista):\n",
    "            if n <= lista[p]:\n",
    "                lista.insert(p,n)\n",
    "                break\n",
    "            p+=1\n",
    "            \n",
    "print('='*30)\n",
    "print(lista)\n",
    "            "
   ]
  },
  {
   "cell_type": "code",
   "execution_count": 3,
   "id": "fd740dc4",
   "metadata": {},
   "outputs": [
    {
     "name": "stdout",
     "output_type": "stream",
     "text": [
      "Insira um número:4\n",
      "Gostaria de inserir outro número? [S/N]s\n",
      "Insira um número:5\n",
      "Gostaria de inserir outro número? [S/N]s\n",
      "Insira um número:7\n",
      "Gostaria de inserir outro número? [S/N]n\n",
      "==============================\n",
      "Foram digitados: 3 números\n",
      "Lista decrescente: [7, 5, 4]\n",
      "O valor 5 está na lista\n"
     ]
    }
   ],
   "source": [
    "lista=[]\n",
    "\n",
    "while True:\n",
    "    lista.append(int(input(f'Insira um número:')))\n",
    "    perg=str(input(f'Gostaria de inserir outro número? [S/N]')).upper()\n",
    "    if perg == 'N':\n",
    "        break\n",
    "\n",
    "print('='*30)\n",
    "print(f'Foram digitados: {len(lista)} números')\n",
    "lista.sort(reverse=True)\n",
    "print(f'Lista decrescente: {lista}')\n",
    "\n",
    "if 5 in lista:\n",
    "    print(f'O valor 5 está na lista')\n",
    "else:\n",
    "    print(f'O valor 5 não foi encontrado na lista')\n",
    "        "
   ]
  },
  {
   "cell_type": "code",
   "execution_count": 10,
   "id": "38aa8db3",
   "metadata": {},
   "outputs": [
    {
     "name": "stdout",
     "output_type": "stream",
     "text": [
      "Insira um numero: 5\n",
      "Colocar outro número? [S/N]: s\n",
      "Insira um numero: 7\n",
      "Colocar outro número? [S/N]: s\n",
      "Insira um numero: 9\n",
      "Colocar outro número? [S/N]: s\n",
      "Insira um numero: 8\n",
      "Colocar outro número? [S/N]: s\n",
      "Insira um numero: 4\n",
      "Colocar outro número? [S/N]: n\n",
      "Lista: [5, 7, 9, 8, 4]\n",
      "Número pares: [8, 4]\n",
      "Números ímpares: [5, 7, 9]\n"
     ]
    }
   ],
   "source": [
    "lista=[]\n",
    "impares=[]\n",
    "pares=[]\n",
    "\n",
    "while True:\n",
    "    lista.append(int(input('Insira um numero: ')))\n",
    "    perg=str(input('Colocar outro número? [S/N]: ')).upper()\n",
    "    if perg in 'N':\n",
    "        break\n",
    "\n",
    "for x in lista:\n",
    "    if x%2==0:\n",
    "        pares.append(x)\n",
    "    else:\n",
    "        impares.append(x)\n",
    "print(f'Lista: {lista}')\n",
    "print(f\"Números pares: {pares}\")\n",
    "print(f'Números ímpares: {impares}')\n",
    "        \n"
   ]
  },
  {
   "cell_type": "code",
   "execution_count": 17,
   "id": "1a8e9e3f",
   "metadata": {},
   "outputs": [
    {
     "name": "stdout",
     "output_type": "stream",
     "text": [
      "Insira uma expressão: ((a+b)\n",
      "A expressão está errada.\n"
     ]
    }
   ],
   "source": [
    "expr=str(input('Insira uma expressão: '))\n",
    "lista=[]\n",
    "for simb in expr:\n",
    "    if simb == '(' or simb == ')':\n",
    "        lista.append(simb)\n",
    "    \n",
    "if len(lista)%2==0:\n",
    "    print(f'A expressão está válida.')\n",
    "else:\n",
    "    print(f'A expressão está errada.')\n",
    "        "
   ]
  },
  {
   "cell_type": "code",
   "execution_count": 45,
   "id": "549b0e99",
   "metadata": {},
   "outputs": [
    {
     "name": "stdout",
     "output_type": "stream",
     "text": [
      "[['fernanda', 32], ['rodrigo', 43]]\n",
      "rodrigo\n"
     ]
    }
   ],
   "source": [
    "pessoas=['fernanda', 32, 'rodrigo',43]\n",
    "lista=[]\n",
    "lista.append(pessoas[:2])\n",
    "lista.append(pessoas[2:4])\n",
    "print(lista)\n",
    "print(lista[1][0]) #primeiro zero indice zer da lista maior, segundo zero, indicie zero da lista dentro da lista.\n",
    "\n"
   ]
  },
  {
   "cell_type": "code",
   "execution_count": 54,
   "id": "d7fba360",
   "metadata": {},
   "outputs": [
    {
     "name": "stdout",
     "output_type": "stream",
     "text": [
      "[['paula', 37], ['bel', 67], ['felipe', 39]]\n",
      "paula\n",
      "bel\n",
      "felipe\n"
     ]
    }
   ],
   "source": [
    "lista=[]\n",
    "lista.append('paula')\n",
    "lista.append(37)\n",
    "\n",
    "listaGeral=[]\n",
    "listaGeral.append(lista[:])\n",
    "\n",
    "lista[0]='bel'\n",
    "lista[1]=67\n",
    "listaGeral.append(lista[:])\n",
    "\n",
    "lista[0]='felipe'\n",
    "lista[1]=39\n",
    "listaGeral.append(lista[:])\n",
    "print(listaGeral)\n",
    "\n",
    "for d in listaGeral:\n",
    "    print(d[0])"
   ]
  },
  {
   "cell_type": "code",
   "execution_count": 60,
   "id": "85b0a137",
   "metadata": {},
   "outputs": [
    {
     "name": "stdout",
     "output_type": "stream",
     "text": [
      "Nome: paula \n",
      "Idade: 22\n",
      "Nome: bel\n",
      "Idade: 14\n",
      "Nome: gabriel\n",
      "Idade: 19\n",
      "['gabriel', 19]\n",
      "Existem 1 maiores de idade\n"
     ]
    }
   ],
   "source": [
    "pessoa=[]\n",
    "dado=[]\n",
    "maiorid=menorid=0\n",
    "for cont in range(0,3):\n",
    "    pessoa.append(str(input('Nome: ')))\n",
    "    pessoa.append(int(input('Idade: ')))\n",
    "    dado.append(pessoa[:])\n",
    "    pessoa.clear()\n",
    "\n",
    "for p in dado:\n",
    "    if p[1]>=18:\n",
    "        maiorid=+1\n",
    "print(p)\n",
    "        \n",
    "print(f'Existem {maiorid} maiores de idade')\n",
    "        "
   ]
  },
  {
   "cell_type": "code",
   "execution_count": 73,
   "id": "efd8e22e",
   "metadata": {},
   "outputs": [
    {
     "name": "stdout",
     "output_type": "stream",
     "text": [
      "Nome: Paula\n",
      "Peso: 59\n",
      "Continuar? [S/N]s\n",
      "Nome: Bel\n",
      "Peso: 59\n",
      "Continuar? [S/N]s\n",
      "Nome: Luiz\n",
      "Peso: 78\n",
      "Continuar? [S/N]s\n",
      "Nome: Gabriel\n",
      "Peso: 82\n",
      "Continuar? [S/N]s\n",
      "Nome: Felipe\n",
      "Peso: 82\n",
      "Continuar? [S/N]n\n",
      "==============================\n",
      "\n",
      "Foram cadastradas 5 pessoas\n",
      "Maior peso: 82.0kg das pessoas:{'Gabriel'}\n",
      "{'Felipe'}\n",
      "Menor Peso: 59.0Kg das pessoas:{'Paula'}\n",
      "{'Bel'}\n"
     ]
    }
   ],
   "source": [
    "dados=[]\n",
    "lista=[]\n",
    "maior=menor=0\n",
    "while True:\n",
    "    dados.append(str(input('Nome: ')))\n",
    "    dados.append(float(input('Peso: ')))\n",
    "    if len(lista)==0:\n",
    "        maior=menor=dados[1]\n",
    "    else:\n",
    "        if dados[1]>maior:\n",
    "            maior=dados[1]\n",
    "        if dados[1]<menor:\n",
    "            menor=dados[1]\n",
    "    lista.append(dados[:])\n",
    "    dados.clear()\n",
    "    perg=str(input('Continuar? [S/N]')).upper()\n",
    "    if perg == 'N':\n",
    "        break\n",
    "print('='*30)\n",
    "print(f'\\nForam cadastradas {len(lista)} pessoas')\n",
    "print(f'Maior peso: {maior}kg das pessoas:', end='')\n",
    "for p in lista:\n",
    "    if p[1]==maior:\n",
    "        print({p[0]})\n",
    "print(f'Menor Peso: {menor}Kg das pessoas:', end='')\n",
    "for p in lista:\n",
    "    if p[1]==menor:\n",
    "        print({p[0]})\n"
   ]
  },
  {
   "cell_type": "code",
   "execution_count": 88,
   "id": "82a457c5",
   "metadata": {},
   "outputs": [
    {
     "name": "stdout",
     "output_type": "stream",
     "text": [
      "Insira um valor: 6\n",
      "Insira um valor: 9\n",
      "Insira um valor: 3\n",
      "Insira um valor: 4\n",
      "Insira um valor: 5\n",
      "Insira um valor: 8\n",
      "Insira um valor: 7\n",
      "==============================\n",
      "Lista par [ordem crescente]: [4, 6, 8]\n",
      "Lista ímpar [ordem crescente]: [3, 5, 7, 9]\n"
     ]
    }
   ],
   "source": [
    "lista=[[],[]]\n",
    "for prog in range(0,7):\n",
    "    num=int(input('Insira um valor: '))\n",
    "    if num%2==0:\n",
    "        lista[0].append(num)\n",
    "    else:\n",
    "        lista[1].append(num)\n",
    "\n",
    "lista[0].sort()\n",
    "lista[1].sort()\n",
    "\n",
    "print('='*30)\n",
    "print(f'Lista par [ordem crescente]: {lista[0]}')\n",
    "print(f'Lista ímpar [ordem crescente]: {lista[1]}')\n",
    "\n",
    "        "
   ]
  },
  {
   "cell_type": "code",
   "execution_count": 31,
   "id": "b271e318",
   "metadata": {
    "scrolled": true
   },
   "outputs": [
    {
     "name": "stdout",
     "output_type": "stream",
     "text": [
      "Insira um número [0, 0]: 1\n",
      "Insira um número [0, 1]: 2\n",
      "Insira um número [0, 2]: 3\n",
      "Insira um número [1, 0]: 4\n",
      "Insira um número [1, 1]: 5\n",
      "Insira um número [1, 2]: 6\n",
      "Insira um número [2, 0]: 7\n",
      "Insira um número [2, 1]: 8\n",
      "Insira um número [2, 2]: 9\n",
      "==============================\n",
      "[1] [2] [3] \n",
      "[4] [5] [6] \n",
      "[7] [8] [9] \n",
      "==============================\n",
      "20\n",
      "18\n",
      "15\n"
     ]
    }
   ],
   "source": [
    "lista=[[0, 0, 0],[0, 0, 0],[0, 0, 0]]\n",
    "pares=tCol=tLin=0\n",
    "\n",
    "for l in range(0,3):\n",
    "    for c in range(0,3):\n",
    "        lista[l][c]=(int(input(f'Insira um número [{l}, {c}]: ')))\n",
    "print('='*30)\n",
    "for l in range(0,3):\n",
    "    for c in range(0,3):\n",
    "        print(f'[{lista [l][c]}]', end=' ')\n",
    "        if lista[l][c]%2==0:\n",
    "            pares= pares+lista[l][c]\n",
    "    print()\n",
    "print('='*30)\n",
    "print(pares)\n",
    "for l in range(0,3):\n",
    "    tCol+=lista[l][2]\n",
    "print(tCol)\n",
    "for c in range(0,3):\n",
    "    tLin+=lista[1][c]\n",
    "print(tLin)\n",
    "    "
   ]
  },
  {
   "cell_type": "code",
   "execution_count": 4,
   "id": "cbb7b582",
   "metadata": {},
   "outputs": [
    {
     "name": "stdout",
     "output_type": "stream",
     "text": [
      "O Título é Star Wars\n",
      "O ano é 1977\n",
      "O diretor é George Lucas\n"
     ]
    }
   ],
   "source": [
    "filmes={'Título':'Star Wars', \n",
    "        'ano':'1977',\n",
    "        'diretor':'George Lucas'}\n",
    "for k,v in filmes.items():\n",
    "    print(f'O {k} é {v}')\n"
   ]
  },
  {
   "cell_type": "code",
   "execution_count": 20,
   "id": "8e94d28f",
   "metadata": {},
   "outputs": [
    {
     "name": "stdout",
     "output_type": "stream",
     "text": [
      "dict_items([('nome', 'Paula'), ('sexo', 'F'), ('Idade', '37')])\n",
      "nome Paula\n",
      "sexo F\n",
      "Idade 37\n"
     ]
    }
   ],
   "source": [
    "pessoas={'nome':'Paula', 'sexo':'F', 'Idade':\"37\"}\n",
    "print(pessoas.items())\n",
    "\n",
    "for k,v in pessoas.items():\n",
    "    print(k,v)"
   ]
  },
  {
   "cell_type": "code",
   "execution_count": 27,
   "id": "58b712a2",
   "metadata": {},
   "outputs": [
    {
     "name": "stdout",
     "output_type": "stream",
     "text": [
      "Rio de Janeiro\n"
     ]
    }
   ],
   "source": [
    "estado={'uf':'Rio de Janeiro', 'sigla': 'RJ'}\n",
    "estado1={'uf':'São Paulo', 'sigla': 'SP'}\n",
    "pais=[]\n",
    "pais.append(estado)\n",
    "pais.append(estado1)\n",
    "\n",
    "\n",
    "print(pais[0]['uf'])\n"
   ]
  },
  {
   "cell_type": "code",
   "execution_count": 28,
   "id": "f44aad21",
   "metadata": {},
   "outputs": [
    {
     "name": "stdout",
     "output_type": "stream",
     "text": [
      "Insira um estado:minas gerais\n",
      "Insira a sigla: mg\n",
      "Insira um estado:sao paulo\n",
      "Insira a sigla: sp\n",
      "Insira um estado:rio de janeiro\n",
      "Insira a sigla: rj\n",
      "[{'uf': 'minas gerais', 'sigla': 'mg'}, {'uf': 'sao paulo', 'sigla': 'sp'}, {'uf': 'rio de janeiro', 'sigla': 'rj'}]\n"
     ]
    }
   ],
   "source": [
    "estado={}\n",
    "brasil=[]\n",
    "\n",
    "for c in range(0,3):\n",
    "    estado['uf']=str(input('Insira um estado:'))\n",
    "    estado['sigla']=str(input('Insira a sigla: '))\n",
    "    brasil.append(estado.copy())\n",
    "print(brasil)\n",
    "    \n",
    "    "
   ]
  },
  {
   "cell_type": "code",
   "execution_count": 35,
   "id": "6dd4b551",
   "metadata": {},
   "outputs": [
    {
     "name": "stdout",
     "output_type": "stream",
     "text": [
      "Insira o nome do aluno: Paula\n",
      "Insira a media da nota: 6\n",
      "==============================\n",
      "{'nome': 'Paula', 'media': 6}\n",
      "Reprovado\n"
     ]
    }
   ],
   "source": [
    "situacao={}\n",
    "\n",
    "situacao['nome']=input('Insira o nome do aluno: ')\n",
    "situacao['media']=int(input('Insira a media da nota: '))\n",
    "print('='*30)\n",
    "print(situacao)\n",
    "\n",
    "if situacao['media']>=7:\n",
    "    print('Aprovado')\n",
    "else:\n",
    "    print('Reprovado')"
   ]
  },
  {
   "cell_type": "code",
   "execution_count": 50,
   "id": "e3effd0c",
   "metadata": {},
   "outputs": [
    {
     "name": "stdout",
     "output_type": "stream",
     "text": [
      "==============================\n",
      "Valores sorteados 2\n",
      "6\n",
      "4\n",
      "5\n",
      "Em 1 lugar: Jogador2 - valor 6 no dado\n",
      "Em 2 lugar: Jogador4 - valor 5 no dado\n",
      "Em 3 lugar: Jogador3 - valor 4 no dado\n",
      "Em 4 lugar: Jogador1 - valor 2 no dado\n"
     ]
    }
   ],
   "source": [
    "from random import randint\n",
    "from time import sleep\n",
    "from operator import itemgetter\n",
    "\n",
    "jogo={'Jogador1': randint(1,6),\n",
    "      'Jogador2': randint(1,6),\n",
    "      'Jogador3': randint(1,6),\n",
    "      'Jogador4': randint(1,6),}\n",
    "\n",
    "ranking=()\n",
    "\n",
    "print('='*30)\n",
    "print(f'Valores sorteados', end=' ')\n",
    "for k,v in jogo.items():\n",
    "    print(f'{v}')\n",
    "    sleep(1) \n",
    "ranking=sorted(jogo.items(), key=itemgetter(1), reverse=True)\n",
    "for j,n in enumerate(ranking):\n",
    "    print(f'Em {j+1} lugar: {n[0]} - valor {n[1]} no dado')\n",
    "    sleep(1)"
   ]
  },
  {
   "cell_type": "code",
   "execution_count": 8,
   "id": "badf8f90",
   "metadata": {},
   "outputs": [
    {
     "name": "stdout",
     "output_type": "stream",
     "text": [
      "Nome: Paula Albuquerque\n",
      "Ano de nascimento: 1985\n",
      "Nº Carteira de Trabalho: 2484\n",
      "Ano de contratação: 2023\n",
      "Salário: 2500\n",
      "==============================\n",
      "Nome-Paula Albuquerque\n",
      "Idade-38\n",
      "CTPS-2484\n",
      "Ano Contratação-2023\n",
      "Aposentadoria-35\n",
      "Salário-2500\n"
     ]
    }
   ],
   "source": [
    "from datetime import datetime\n",
    "dados={}\n",
    "\n",
    "dados['Nome'] = input('Nome: ')\n",
    "ano=int(input('Ano de nascimento: '))\n",
    "dados['Idade']=datetime.now().year-ano\n",
    "dados['CTPS']= int(input('Nº Carteira de Trabalho: '))\n",
    "if dados['CTPS']!=0:\n",
    "    dados['Ano Contratação']=int(input('Ano de contratação: '))\n",
    "    dados['Aposentadoria']=(dados['Ano Contratação']+35)-datetime.now().year \n",
    "    dados['Salário']=int(input('Salário: '))\n",
    "print('='*30)    \n",
    "for k,v in dados.items():\n",
    "    print(f'{k}-{v}')\n",
    "\n",
    "    "
   ]
  },
  {
   "cell_type": "code",
   "execution_count": 68,
   "id": "0010cadf",
   "metadata": {},
   "outputs": [
    {
     "ename": "KeyboardInterrupt",
     "evalue": "Interrupted by user",
     "output_type": "error",
     "traceback": [
      "\u001b[1;31m---------------------------------------------------------------------------\u001b[0m",
      "\u001b[1;31mKeyboardInterrupt\u001b[0m                         Traceback (most recent call last)",
      "Input \u001b[1;32mIn [68]\u001b[0m, in \u001b[0;36m<cell line: 5>\u001b[1;34m()\u001b[0m\n\u001b[0;32m      4\u001b[0m \u001b[38;5;28;01mwhile\u001b[39;00m \u001b[38;5;28;01mTrue\u001b[39;00m:\n\u001b[0;32m      5\u001b[0m     dados\u001b[38;5;241m.\u001b[39mclear()\n\u001b[1;32m----> 6\u001b[0m     dados[\u001b[38;5;124m'\u001b[39m\u001b[38;5;124mNome\u001b[39m\u001b[38;5;124m'\u001b[39m]\u001b[38;5;241m=\u001b[39m\u001b[38;5;28mstr\u001b[39m(\u001b[38;5;28;43minput\u001b[39;49m\u001b[43m(\u001b[49m\u001b[38;5;124;43m'\u001b[39;49m\u001b[38;5;124;43mJogador:\u001b[39;49m\u001b[38;5;124;43m'\u001b[39;49m\u001b[43m)\u001b[49m)\n\u001b[0;32m      7\u001b[0m     part\u001b[38;5;241m=\u001b[39m\u001b[38;5;28mint\u001b[39m(\u001b[38;5;28minput\u001b[39m(\u001b[38;5;124mf\u001b[39m\u001b[38;5;124m'\u001b[39m\u001b[38;5;124mPartidas jogadas por \u001b[39m\u001b[38;5;132;01m{\u001b[39;00mdados[\u001b[38;5;124m\"\u001b[39m\u001b[38;5;124mNome\u001b[39m\u001b[38;5;124m\"\u001b[39m]\u001b[38;5;132;01m}\u001b[39;00m\u001b[38;5;124m: \u001b[39m\u001b[38;5;124m'\u001b[39m))\n\u001b[0;32m      8\u001b[0m     \u001b[38;5;28;01mfor\u001b[39;00m cont \u001b[38;5;129;01min\u001b[39;00m \u001b[38;5;28mrange\u001b[39m(\u001b[38;5;241m1\u001b[39m,part\u001b[38;5;241m+\u001b[39m\u001b[38;5;241m1\u001b[39m):\n",
      "File \u001b[1;32m~\\OneDrive\\Paula\\include\\Novapasta\\lib\\site-packages\\ipykernel\\kernelbase.py:1075\u001b[0m, in \u001b[0;36mKernel.raw_input\u001b[1;34m(self, prompt)\u001b[0m\n\u001b[0;32m   1071\u001b[0m \u001b[38;5;28;01mif\u001b[39;00m \u001b[38;5;129;01mnot\u001b[39;00m \u001b[38;5;28mself\u001b[39m\u001b[38;5;241m.\u001b[39m_allow_stdin:\n\u001b[0;32m   1072\u001b[0m     \u001b[38;5;28;01mraise\u001b[39;00m StdinNotImplementedError(\n\u001b[0;32m   1073\u001b[0m         \u001b[38;5;124m\"\u001b[39m\u001b[38;5;124mraw_input was called, but this frontend does not support input requests.\u001b[39m\u001b[38;5;124m\"\u001b[39m\n\u001b[0;32m   1074\u001b[0m     )\n\u001b[1;32m-> 1075\u001b[0m \u001b[38;5;28;01mreturn\u001b[39;00m \u001b[38;5;28;43mself\u001b[39;49m\u001b[38;5;241;43m.\u001b[39;49m\u001b[43m_input_request\u001b[49m\u001b[43m(\u001b[49m\n\u001b[0;32m   1076\u001b[0m \u001b[43m    \u001b[49m\u001b[38;5;28;43mstr\u001b[39;49m\u001b[43m(\u001b[49m\u001b[43mprompt\u001b[49m\u001b[43m)\u001b[49m\u001b[43m,\u001b[49m\n\u001b[0;32m   1077\u001b[0m \u001b[43m    \u001b[49m\u001b[38;5;28;43mself\u001b[39;49m\u001b[38;5;241;43m.\u001b[39;49m\u001b[43m_parent_ident\u001b[49m\u001b[43m[\u001b[49m\u001b[38;5;124;43m\"\u001b[39;49m\u001b[38;5;124;43mshell\u001b[39;49m\u001b[38;5;124;43m\"\u001b[39;49m\u001b[43m]\u001b[49m\u001b[43m,\u001b[49m\n\u001b[0;32m   1078\u001b[0m \u001b[43m    \u001b[49m\u001b[38;5;28;43mself\u001b[39;49m\u001b[38;5;241;43m.\u001b[39;49m\u001b[43mget_parent\u001b[49m\u001b[43m(\u001b[49m\u001b[38;5;124;43m\"\u001b[39;49m\u001b[38;5;124;43mshell\u001b[39;49m\u001b[38;5;124;43m\"\u001b[39;49m\u001b[43m)\u001b[49m\u001b[43m,\u001b[49m\n\u001b[0;32m   1079\u001b[0m \u001b[43m    \u001b[49m\u001b[43mpassword\u001b[49m\u001b[38;5;241;43m=\u001b[39;49m\u001b[38;5;28;43;01mFalse\u001b[39;49;00m\u001b[43m,\u001b[49m\n\u001b[0;32m   1080\u001b[0m \u001b[43m\u001b[49m\u001b[43m)\u001b[49m\n",
      "File \u001b[1;32m~\\OneDrive\\Paula\\include\\Novapasta\\lib\\site-packages\\ipykernel\\kernelbase.py:1120\u001b[0m, in \u001b[0;36mKernel._input_request\u001b[1;34m(self, prompt, ident, parent, password)\u001b[0m\n\u001b[0;32m   1117\u001b[0m             \u001b[38;5;28;01mbreak\u001b[39;00m\n\u001b[0;32m   1118\u001b[0m \u001b[38;5;28;01mexcept\u001b[39;00m \u001b[38;5;167;01mKeyboardInterrupt\u001b[39;00m:\n\u001b[0;32m   1119\u001b[0m     \u001b[38;5;66;03m# re-raise KeyboardInterrupt, to truncate traceback\u001b[39;00m\n\u001b[1;32m-> 1120\u001b[0m     \u001b[38;5;28;01mraise\u001b[39;00m \u001b[38;5;167;01mKeyboardInterrupt\u001b[39;00m(\u001b[38;5;124m\"\u001b[39m\u001b[38;5;124mInterrupted by user\u001b[39m\u001b[38;5;124m\"\u001b[39m) \u001b[38;5;28;01mfrom\u001b[39;00m \u001b[38;5;28mNone\u001b[39m\n\u001b[0;32m   1121\u001b[0m \u001b[38;5;28;01mexcept\u001b[39;00m \u001b[38;5;167;01mException\u001b[39;00m:\n\u001b[0;32m   1122\u001b[0m     \u001b[38;5;28mself\u001b[39m\u001b[38;5;241m.\u001b[39mlog\u001b[38;5;241m.\u001b[39mwarning(\u001b[38;5;124m\"\u001b[39m\u001b[38;5;124mInvalid Message:\u001b[39m\u001b[38;5;124m\"\u001b[39m, exc_info\u001b[38;5;241m=\u001b[39m\u001b[38;5;28;01mTrue\u001b[39;00m)\n",
      "\u001b[1;31mKeyboardInterrupt\u001b[0m: Interrupted by user"
     ]
    }
   ],
   "source": [
    "dados={}\n",
    "partidas=[]\n",
    "jogadores=[]\n",
    "while True:\n",
    "    dados.clear()\n",
    "    dados['Nome']=str(input('Jogador:'))\n",
    "    part=int(input(f'Partidas jogadas por {dados[\"Nome\"]}: '))\n",
    "    for cont in range(1,part+1):\n",
    "        partidas.append(int(input(f'Quantidade de gols no jogo {cont}: ')))\n",
    "        dados['Gols']=partidas[:]\n",
    "        dados['Total de gols']=sum(partidas)\n",
    "    jogadores.append(dados.copy())\n",
    "    perg=str(input('Quer continuar? [S/N]')).upper()[0]\n",
    "    if perg=='N':\n",
    "        break\n",
    "print('-'*30)\n",
    "for k,v in enumerate(jogadores):\n",
    "    print(f'Jogador {k}:{v}')\n",
    "        \n",
    "print('='*30)\n",
    "for k,v in dados.items():\n",
    "    print(f'{k}:{v}')\n",
    "print()\n",
    "print('='*30)\n"
   ]
  },
  {
   "cell_type": "code",
   "execution_count": 53,
   "id": "493627e2",
   "metadata": {},
   "outputs": [
    {
     "name": "stdout",
     "output_type": "stream",
     "text": [
      "Nome:Paula\n",
      "Sexo [F/M]:f\n",
      "Idade: 37\n",
      "Quer continuar? [S/N]s\n",
      "Nome:Marcelo\n",
      "Sexo [F/M]:m\n",
      "Idade: 48\n",
      "Quer continuar? [S/N]s\n",
      "Nome:Viviane\n",
      "Sexo [F/M]:f\n",
      "Idade: 45\n",
      "Quer continuar? [S/N]n\n",
      "-=-=-=-=-=-=-=-=-=-=-=-=-=-=-=-=-=-=-=-=-=-=-=-=-=-=-=-=-=-=\n",
      "Foram cadastradas 3 pessoas\n",
      "Média das idades:  43.3\n",
      "Quantidade de mulheres cadastradas: 2 mulher(s)\n",
      "-----\n",
      "LISTA (idade acima da média)\n",
      "    \n",
      "-- nome:Marcelo -- sexo:M -- idade:48     \n",
      "-- nome:Viviane -- sexo:F -- idade:45 "
     ]
    }
   ],
   "source": [
    "pessoas={}\n",
    "listaPessoas=[]\n",
    "soma=media=mulheres=0\n",
    "while True:\n",
    "    pessoas.clear()\n",
    "    pessoas['nome']=input('Nome:')\n",
    "    pessoas['sexo']=input('Sexo [F/M]:').upper()[0]\n",
    "    if pessoas['sexo']=='F':\n",
    "        mulheres+=1\n",
    "    pessoas['idade']=int(input('Idade: '))\n",
    "    soma= soma+pessoas['idade']\n",
    "    media+=1\n",
    "    listaPessoas.append(pessoas.copy())\n",
    "    \n",
    "    perg=input('Quer continuar? [S/N]').upper()[0]\n",
    "    if perg =='N':\n",
    "        break\n",
    "        \n",
    "media1= soma/media\n",
    "\n",
    "print('-='*30)\n",
    "print(f'Foram cadastradas {len(listaPessoas)} pessoas')\n",
    "print(f'Média das idades: {media1:5.1f}')\n",
    "print(f'Quantidade de mulheres cadastradas: {mulheres} mulher(s)')\n",
    "print('-'*5)\n",
    "print('LISTA (idade acima da média)')\n",
    "for p in listaPessoas:\n",
    "    if p['idade'] >= media1:\n",
    "        print('    ')\n",
    "        for k,v in p.items():\n",
    "            print(f'-- {k}:{v}', end=' ')\n"
   ]
  },
  {
   "cell_type": "code",
   "execution_count": null,
   "id": "2dc0f397",
   "metadata": {},
   "outputs": [],
   "source": [
    "\n"
   ]
  }
 ],
 "metadata": {
  "kernelspec": {
   "display_name": "Python 3 (ipykernel)",
   "language": "python",
   "name": "python3"
  },
  "language_info": {
   "codemirror_mode": {
    "name": "ipython",
    "version": 3
   },
   "file_extension": ".py",
   "mimetype": "text/x-python",
   "name": "python",
   "nbconvert_exporter": "python",
   "pygments_lexer": "ipython3",
   "version": "3.9.12"
  }
 },
 "nbformat": 4,
 "nbformat_minor": 5
}
